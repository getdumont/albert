{
 "cells": [
  {
   "cell_type": "markdown",
   "metadata": {},
   "source": [
    "# Analise das Repostas\n",
    "\n"
   ]
  },
  {
   "cell_type": "code",
   "execution_count": 1,
   "metadata": {},
   "outputs": [
    {
     "name": "stdout",
     "output_type": "stream",
     "text": [
      "Total de Tweets com Perguntas Atreladas 312\n",
      "Total de Perguntas 688\n"
     ]
    }
   ],
   "source": [
    "import json\n",
    "import matplotlib\n",
    "import pandas as pd\n",
    "import numpy as np\n",
    "import urllib.request\n",
    "import seaborn as sns\n",
    "\n",
    "from functools import reduce\n",
    "\n",
    "sns.set()\n",
    "QUESTION_URL = \"https://raw.githubusercontent.com/getdumont/dumont/master/specialist-api/questions.json\"\n",
    "\n",
    "data = []\n",
    "all_questions_id = [x for x in range(0, 21)]\n",
    "questions_json = json.loads(urllib.request.urlopen(QUESTION_URL).read())\n",
    "\n",
    "with open('/albert/data/answered-sample-2018-11-11-00-58.json') as f:\n",
    "    data = json.load(f)\n",
    "\n",
    "pdata = [[], *data]\n",
    "data_all_questions = reduce((lambda current, atweet: [*current, *atweet['questions']]), pdata)\n",
    "print('Total de Tweets com Perguntas Atreladas {}'.format(len(data_all_questions)))\n",
    "\n",
    "data_all_questions = reduce((lambda current, questions: [*current, *questions]), data_all_questions)\n",
    "\n",
    "print('Total de Perguntas {}'.format(len(data_all_questions)))"
   ]
  },
  {
   "cell_type": "code",
   "execution_count": 6,
   "metadata": {},
   "outputs": [
    {
     "data": {
      "image/png": "[encoded data removed]",
      "text/plain": [
       "<Figure size 1224x504 with 1 Axes>"
      ]
     },
     "metadata": {
      "needs_background": "light"
     },
     "output_type": "display_data"
    }
   ],
   "source": [
    "data_df = pd.DataFrame(data_all_questions)\n",
    "\n",
    "frame_columns = {\"question_index\":\"Id das Questões\", \"impact\": \"Total de Questões\"}\n",
    "df_final = data_df.rename(\n",
    "    index=str, columns=frame_columns\n",
    ").groupby(\n",
    "    by=frame_columns['question_index']\n",
    ").count().sort_values([frame_columns['impact']]).plot(kind='bar', figsize=(17,7))"
   ]
  },
  {
   "cell_type": "code",
   "execution_count": 3,
   "metadata": {},
   "outputs": [
    {
     "name": "stdout",
     "output_type": "stream",
     "text": [
      "0 & Tive dificuldade de me acalmar & Estresse \\\\\n",
      "1 & Minha boca ficou seca & Ansiedade \\\\\n",
      "2 & Não tive nenhum sentimento positivo & Depressão \\\\\n",
      "3 & Em alguns momentos tive dificuldade de respirar (chiado e falta de ar sem esforço físico) & Ansiedade \\\\\n",
      "4 & Não consegui ter iniciativa para fazer as coisas & Depressão \\\\\n",
      "5 & Exagerei intencionalmente ao reagir a situações & Estresse \\\\\n",
      "6 & Tive tremedeira (por exemplo, nas mãos) & Ansiedade \\\\\n",
      "7 & Senti que estava sempre nervoso(a) & Estresse \\\\\n",
      "8 & Me preocupei com situações em que poderia entrar em pânico e parecer ridículo(a) & Ansiedade \\\\\n",
      "9 & Senti que não tinha vontade de nada & Depressão \\\\\n",
      "10 & Me senti inquieto(a) & Estresse \\\\\n",
      "11 & Tive dificuldade de relaxar & Estresse \\\\\n",
      "12 & Me senti deprimido e sem motivação & Depressão \\\\\n",
      "13 & Eu não conseguia tolerar as coisas que me impediam de continuar a fazer o que estava realizando & Estresse \\\\\n",
      "14 & Eu senti que ia entrar em pânico & Ansiedade \\\\\n",
      "15 & Nada me deixou entusiasmado & Depressão \\\\\n",
      "16 & Eu senti que era uma pessoa sem valor & Depressão \\\\\n",
      "17 & Eu senti que estava sendo muito sensível/emotivo & Estresse \\\\\n",
      "18 & Eu percebi uma mudança nos meus batimentos cardíacos embora não estivesse praticando exercício rigoroso (ex. batimento cardíaco acelerado ou irregular) & Ansiedade \\\\\n",
      "19 & Eu senti medo sem motivo & Ansiedade \\\\\n",
      "20 & Senti que a vida não tinha sentido & Depressão \\\\\n"
     ]
    }
   ],
   "source": [
    "idx = 0\n",
    "\n",
    "for q in questions_json['questions']:\n",
    "    print('{0} & {1} & {2} \\\\\\\\'.format(idx, q['value'], questions_json['constructos'][q['contructo']]))\n",
    "    idx += 1\n",
    "          \n"
   ]
  },
  {
   "cell_type": "code",
   "execution_count": 4,
   "metadata": {},
   "outputs": [
    {
     "data": {
      "text/html": [
       "<div>\n",
       "<style scoped>\n",
       "    .dataframe tbody tr th:only-of-type {\n",
       "        vertical-align: middle;\n",
       "    }\n",
       "\n",
       "    .dataframe tbody tr th {\n",
       "        vertical-align: top;\n",
       "    }\n",
       "\n",
       "    .dataframe thead th {\n",
       "        text-align: right;\n",
       "    }\n",
       "</style>\n",
       "<table border=\"1\" class=\"dataframe\">\n",
       "  <thead>\n",
       "    <tr style=\"text-align: right;\">\n",
       "      <th></th>\n",
       "      <th>Construto</th>\n",
       "      <th>Questão</th>\n",
       "    </tr>\n",
       "  </thead>\n",
       "  <tbody>\n",
       "    <tr>\n",
       "      <th>0</th>\n",
       "      <td>Ansiedade</td>\n",
       "      <td>Minha boca ficou seca</td>\n",
       "    </tr>\n",
       "  </tbody>\n",
       "</table>\n",
       "</div>"
      ],
      "text/plain": [
       "   Construto                Questão\n",
       "0  Ansiedade  Minha boca ficou seca"
      ]
     },
     "execution_count": 4,
     "metadata": {},
     "output_type": "execute_result"
    }
   ],
   "source": [
    "answered_ids = data_df.groupby(by='question_index').count().index.values.tolist()\n",
    "tb_missing = []\n",
    "\n",
    "for item in [item for item in all_questions_id if item not in answered_ids]:\n",
    "    q = questions_json['questions'][item]\n",
    "    tb_missing.append({'Questão': q[\"value\"], 'Construto': questions_json[\"constructos\"][q[\"contructo\"]]})\n",
    "\n",
    "pd.DataFrame(tb_missing)"
   ]
  },
  {
   "cell_type": "code",
   "execution_count": null,
   "metadata": {},
   "outputs": [],
   "source": []
  }
 ],
 "metadata": {
  "kernelspec": {
   "display_name": "Python 3",
   "language": "python",
   "name": "python3"
  },
  "language_info": {
   "codemirror_mode": {
    "name": "ipython",
    "version": 3
   },
   "file_extension": ".py",
   "mimetype": "text/x-python",
   "name": "python",
   "nbconvert_exporter": "python",
   "pygments_lexer": "ipython3",
   "version": "3.7.0"
  }
 },
 "nbformat": 4,
 "nbformat_minor": 2
}
