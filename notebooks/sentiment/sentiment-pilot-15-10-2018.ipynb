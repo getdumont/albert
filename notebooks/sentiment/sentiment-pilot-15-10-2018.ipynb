{
 "cells": [
  {
   "cell_type": "markdown",
   "metadata": {},
   "source": [
    "# Analise Prévia dos Dados\n",
    "\n",
    "Em primeiro momento foram coletados mais de 250 Megabites de informação. Contabilizando um total de 68583 Tweets em uma única noite. Eles estão distribuídos entre 419 perfis, gerando uma média de aproximadamente 163 Tweets por usuário. O enfoque é localizar uma amostra com os perfis mais negativos."
   ]
  },
  {
   "cell_type": "code",
   "execution_count": 1,
   "metadata": {},
   "outputs": [
    {
     "name": "stdout",
     "output_type": "stream",
     "text": [
      "Quantidade de Tweets: 68583\n",
      "Quantidade de Usuarios: 419\n",
      "Média Tweet por Usuario: 163.68257756563247\n"
     ]
    }
   ],
   "source": [
    "import json\n",
    "import matplotlib\n",
    "import pandas as pd\n",
    "import numpy as np\n",
    "\n",
    "data = []\n",
    "\n",
    "with open('/albert/data/sentiment-pilot-2018-10-15-11-52.json') as f:\n",
    "    data = json.load(f)\n",
    "\n",
    "data_df = pd.DataFrame(data)\n",
    "data_grouped_by_user = data_df.groupby(by='user')\n",
    "\n",
    "print('Quantidade de Tweets: {}'.format(len(data)))\n",
    "print('Quantidade de Usuarios: {}'.format(len(data_grouped_by_user)))\n",
    "print('Média Tweet por Usuario: {}'.format(len(data)/len(data_grouped_by_user)))\n"
   ]
  },
  {
   "cell_type": "markdown",
   "metadata": {},
   "source": [
    "Agrupamos os tweets pelos scores, a cada espaçamento de 0.2, se observar no gráfico"
   ]
  },
  {
   "cell_type": "code",
   "execution_count": 2,
   "metadata": {},
   "outputs": [
    {
     "data": {
      "text/plain": [
       "<matplotlib.legend.Legend at 0x7fc11d26e390>"
      ]
     },
     "execution_count": 2,
     "metadata": {},
     "output_type": "execute_result"
    }
   ],
   "source": [
    "def createRangeDict(row):\n",
    "    return {\n",
    "        'user': row['user'],\n",
    "        'sentiment': row['clean_sentiment']['Score']\n",
    "    }\n",
    "\n",
    "simplify_user_sentiment = pd.DataFrame([createRangeDict(x) for x in data])\n",
    "\n",
    "data_simple_scores = simplify_user_sentiment.drop(columns=['user'])\n",
    "sentiment_arrange = np.arange(-1, 1, 0.2)\n",
    "sentiment_ind = np.digitize(\n",
    "    data_simple_scores['sentiment'],\n",
    "    sentiment_arrange\n",
    ")\n",
    "\n",
    "\n",
    "data_simple_scores = data_simple_scores.groupby(sentiment_ind).count()\n",
    "data_simple_scores[\"range\"] = pd.Series([x * 0.2 for x in range(-6, 6, 1)])\n",
    "\n",
    "graph = data_simple_scores.plot(kind='area', x='range', y='sentiment')\n",
    "graph.set_xlabel('Raio de Sentimentos')\n",
    "graph.set_ylabel('Quantidade de Tweets')\n",
    "graph.set_title('Relação Sentimento X Tweets')\n",
    "graph.legend(['Tweets'])\n"
   ]
  },
  {
   "cell_type": "markdown",
   "metadata": {},
   "source": [
    "Partindo do principio que a partir de um score de -0.2 já existem menos dados, será tomada com premissa que qualquer dado com score superior a esse é um dado não viável para amostra. Seguindo essa premissa é precisso mapear de cada usúario o percentual de publicações a abaixo de -0.2, com isso será possível obter um percentual da densidade de publicações negativas naquele perfil."
   ]
  },
  {
   "cell_type": "code",
   "execution_count": 3,
   "metadata": {},
   "outputs": [
    {
     "data": {
      "text/plain": [
       "<matplotlib.legend.Legend at 0x7fc1022cee10>"
      ]
     },
     "execution_count": 3,
     "metadata": {},
     "output_type": "execute_result"
    },
    {
     "data": {
      "image/png": "[encoded data removed]",
      "text/plain": [
       "<Figure size 432x288 with 1 Axes>"
      ]
     },
     "metadata": {
      "needs_background": "light"
     },
     "output_type": "display_data"
    }
   ],
   "source": [
    "def map_percentual(item, *args, **kwargs):\n",
    "    new_item = {\n",
    "        'user': item[1]['user'],\n",
    "        'negatives': [],\n",
    "        'normals': [],\n",
    "    }\n",
    "    \n",
    "\n",
    "    sentiment = item[1]['sentiment']\n",
    "    new_item[\"negatives\"] = len(sentiment[sentiment <= -0.2])\n",
    "    new_item[\"normals\"] = len(sentiment[sentiment > -0.2])\n",
    "\n",
    "    total = new_item[\"normals\"] + new_item[\"negatives\"]\n",
    "\n",
    "    new_item[\"npercentual\"] = (new_item[\"negatives\"] * 100) / total\n",
    "    \n",
    "    return new_item\n",
    "\n",
    "data_negative_percentual = []\n",
    "pre_data_negative_percentual = simplify_user_sentiment.groupby(by=['user'])\n",
    "\n",
    "for item in pre_data_negative_percentual:  \n",
    "    data_negative_percentual.append(map_percentual(item))\n",
    "    \n",
    "data_negative_percentual = pd.DataFrame(data_negative_percentual)\n",
    "\n",
    "percentual_arrange = np.arange(0, 100, 10)\n",
    "percentual_ind = np.digitize(\n",
    "    data_negative_percentual['npercentual'],\n",
    "    percentual_arrange\n",
    ")\n",
    "\n",
    "data_negative_percentual = data_negative_percentual.groupby(percentual_ind)\n",
    "\n",
    "pre_graph2 = data_negative_percentual.count()\n",
    "pre_graph2[\"range\"] = pd.Series([x * 10 for x in range(0, 12, 1)])\n",
    "\n",
    "graph2 = pre_graph2.plot(kind='bar', x='range', y='npercentual', color=(0.1, 0.1, 0.1, 0.1))\n",
    "graph2.set_xlabel('Percentual de Negatividade')\n",
    "graph2.set_ylabel('Quantidade de Perfis')\n",
    "graph2.set_title('Relação de Massa Negativa nos Perfis')\n",
    "graph2.legend(['Usuários'])"
   ]
  },
  {
   "cell_type": "markdown",
   "metadata": {},
   "source": [
    "Analisando os dados do gráfico, é possível notar que a maior quantidade de percentual negativo esta entre 20% e 40%, entretanto, é impossível afirmar que os dados suprem as necessidades que a Inteligência Artificial ira necessitar para realizar a inferência na base. Refletindo sobre a EADS, a versão mitificada tem 21 perguntas, logo, necessita-se de no mínimo 21 tweets negativos na esperança que cada um responda pelo menos 1 das perguntas. Para validar a ideia é necessário descobrir a média de tweets dentro dos percentuais que mais contem massa negativa."
   ]
  },
  {
   "cell_type": "code",
   "execution_count": 4,
   "metadata": {},
   "outputs": [
    {
     "name": "stdout",
     "output_type": "stream",
     "text": [
      "Quantidade Tweets Negativos: 9592.0\n",
      "Quantidade de Usuarios Analisados: 413.0\n",
      "Média de Tweets Negativos: 23.225181598062953\n"
     ]
    }
   ],
   "source": [
    "negatives_sum = data_negative_percentual[['negatives']].sum()\n",
    "negatives_count = data_negative_percentual[['negatives']].count()\n",
    "\n",
    "total_tweets = 0\n",
    "total_users = 0\n",
    "\n",
    "for _, value in negatives_sum.iteritems():\n",
    "    for index in range(1,4):\n",
    "        total_tweets = total_tweets + float(value[index])\n",
    "        \n",
    "for _, value in negatives_count.iteritems():\n",
    "    for index in range(1,4):\n",
    "        total_users = total_users + float(value[index])\n",
    "    \n",
    "print('Quantidade Tweets Negativos: {}'.format(total_tweets))\n",
    "print('Quantidade de Usuarios Analisados: {}'.format(total_users))\n",
    "print('Média de Tweets Negativos: {}'.format(total_tweets / total_users))"
   ]
  },
  {
   "cell_type": "markdown",
   "metadata": {},
   "source": [
    "Uma vez obtido os dados do percentual e média de tweets é possível configurar o script para gerar amostra e tambem rodar um script para coletar dados resumidos para análise. Para que "
   ]
  },
  {
   "cell_type": "code",
   "execution_count": 5,
   "metadata": {},
   "outputs": [
    {
     "name": "stdout",
     "output_type": "stream",
     "text": [
      "Quantidade Total de Usuários Encontrados: 21\n",
      "Quantidade de Tweets Negativos: 907\n"
     ]
    },
    {
     "data": {
      "image/png": "[encoded data removed]",
      "text/plain": [
       "<Figure size 432x288 with 1 Axes>"
      ]
     },
     "metadata": {},
     "output_type": "display_data"
    }
   ],
   "source": [
    "with open('/albert/data/sample-analytic-2018-10-15-21-05.json') as f:\n",
    "    data2 = json.load(f)\n",
    "    \n",
    "total_tweets_negativos = 0\n",
    "for sample in data2:\n",
    "    total_tweets_negativos += len(sample[\"NegativeTweets\"])\n",
    "\n",
    "graph_session_labels = ['normal', 'negativos']\n",
    "graph_session_colors = ['gold', 'yellowgreen']\n",
    "graph3 = [len(data_grouped_by_user) - len(data2), len(data2)]\n",
    "graph4 = [len(data) - total_tweets_negativos, total_tweets_negativos]\n",
    "\n",
    "print('Quantidade Total de Usuários Encontrados: {}'.format(len(data2)))\n",
    "print('Quantidade de Tweets Negativos: {}'.format(total_tweets_negativos))\n",
    "\n",
    "matplotlib.pyplot.pie(graph3, labels=graph_session_labels, autopct='%1.1f%%', colors=graph_session_colors)\n",
    "matplotlib.pyplot.axis('equal')\n",
    "matplotlib.pyplot.title('Quantidade de Usuários Negativos Relativos a Base Total')\n",
    "matplotlib.pyplot.tight_layout()\n",
    "matplotlib.pyplot.show()\n",
    "\n"
   ]
  },
  {
   "cell_type": "code",
   "execution_count": 6,
   "metadata": {},
   "outputs": [
    {
     "data": {
      "image/png": "[encoded data removed]",
      "text/plain": [
       "<Figure size 432x288 with 1 Axes>"
      ]
     },
     "metadata": {},
     "output_type": "display_data"
    }
   ],
   "source": [
    "matplotlib.pyplot.pie(graph4, labels=graph_session_labels, autopct='%1.1f%%', colors=graph_session_colors)\n",
    "matplotlib.pyplot.axis('equal')\n",
    "matplotlib.pyplot.title('Quantidade de Tweets Negativos Relativos a Base Total')\n",
    "matplotlib.pyplot.tight_layout()\n",
    "matplotlib.pyplot.show()"
   ]
  },
  {
   "cell_type": "code",
   "execution_count": null,
   "metadata": {},
   "outputs": [],
   "source": []
  }
 ],
 "metadata": {
  "kernelspec": {
   "display_name": "Python 3",
   "language": "python",
   "name": "python3"
  },
  "language_info": {
   "codemirror_mode": {
    "name": "ipython",
    "version": 3
   },
   "file_extension": ".py",
   "mimetype": "text/x-python",
   "name": "python",
   "nbconvert_exporter": "python",
   "pygments_lexer": "ipython3",
   "version": "3.6.6"
  }
 },
 "nbformat": 4,
 "nbformat_minor": 2
}
